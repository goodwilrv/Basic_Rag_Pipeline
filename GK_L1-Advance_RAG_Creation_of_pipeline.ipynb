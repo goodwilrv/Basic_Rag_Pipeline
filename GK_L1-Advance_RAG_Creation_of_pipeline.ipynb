{
 "cells": [
  {
   "cell_type": "markdown",
   "id": "a9bff53e",
   "metadata": {},
   "source": [
    "# Lesson 1: Creating an advanced RAG Pipeline"
   ]
  },
  {
   "cell_type": "code",
   "execution_count": 16,
   "id": "feb98470-c136-471d-a63e-d50d8eb09c57",
   "metadata": {
    "height": 98,
    "tags": []
   },
   "outputs": [],
   "source": [
    "import utils\n",
    "\n",
    "import os\n",
    "import openai\n",
    "openai.api_key = utils.get_openai_api_key()"
   ]
  },
  {
   "cell_type": "code",
   "execution_count": 18,
   "id": "31e2859b-596e-40b3-867b-f4d6e91f74bc",
   "metadata": {
    "height": 98,
    "tags": []
   },
   "outputs": [],
   "source": [
    "from llama_index import SimpleDirectoryReader\n",
    "\n",
    "documents = SimpleDirectoryReader(\n",
    "    input_files=[\"./GK_Cover_Letter_Avanade.pdf\"]\n",
    ").load_data()"
   ]
  },
  {
   "cell_type": "code",
   "execution_count": 19,
   "id": "2d7d0857-b9d1-4feb-8243-bfd2f4953acd",
   "metadata": {
    "height": 81,
    "tags": []
   },
   "outputs": [
    {
     "name": "stdout",
     "output_type": "stream",
     "text": [
      "<class 'list'> \n",
      "\n",
      "1 \n",
      "\n",
      "<class 'llama_index.schema.Document'>\n",
      "Doc ID: 991da2c0-7af7-4acf-942f-4ecdd5630792\n",
      "Text: Dear Hiring Manager, I am writing to express my interest in the\n",
      "Data Scientist position at Avanade. With over 7 years of  experience\n",
      "in data science, business intelligence, and software development, I am\n",
      "confident that my skills align perfectly with the requirements of the\n",
      "role. My background in end-to-end machine  learning, data analysis,\n",
      "and c...\n"
     ]
    }
   ],
   "source": [
    "print(type(documents), \"\\n\")\n",
    "print(len(documents), \"\\n\")\n",
    "print(type(documents[0]))\n",
    "print(documents[0])"
   ]
  },
  {
   "cell_type": "markdown",
   "id": "f3123d3d",
   "metadata": {},
   "source": [
    "## Basic RAG pipeline"
   ]
  },
  {
   "cell_type": "code",
   "execution_count": 20,
   "id": "b4abc806-64f5-46bb-8c9f-6469ecb18d20",
   "metadata": {
    "height": 64,
    "tags": []
   },
   "outputs": [],
   "source": [
    "from llama_index import Document\n",
    "\n",
    "document = Document(text=\"\\n\\n\".join([doc.text for doc in documents]))"
   ]
  },
  {
   "cell_type": "code",
   "execution_count": 21,
   "id": "afc2baff-5e8b-4733-9899-16f248777b23",
   "metadata": {
    "height": 183,
    "tags": []
   },
   "outputs": [],
   "source": [
    "from llama_index import VectorStoreIndex\n",
    "from llama_index import ServiceContext\n",
    "from llama_index.llms import OpenAI\n",
    "\n",
    "llm = OpenAI(model=\"gpt-3.5-turbo\", temperature=0.1)\n",
    "service_context = ServiceContext.from_defaults(\n",
    "    llm=llm, embed_model=\"local:BAAI/bge-small-en-v1.5\"\n",
    ")\n",
    "index = VectorStoreIndex.from_documents([document],\n",
    "                                        service_context=service_context)"
   ]
  },
  {
   "cell_type": "code",
   "execution_count": 24,
   "id": "ae52a26c-7d0c-44df-8043-4c7f19f794b9",
   "metadata": {
    "height": 30,
    "tags": []
   },
   "outputs": [],
   "source": [
    "query_engine = index.as_query_engine()"
   ]
  },
  {
   "cell_type": "code",
   "execution_count": 26,
   "id": "6b0d5b6e-cc2e-4648-b28c-5fa25a97d175",
   "metadata": {
    "height": 81,
    "tags": []
   },
   "outputs": [
    {
     "name": "stdout",
     "output_type": "stream",
     "text": [
      "Gautam has worked on projects involving data pipelines, anomaly detection, retrieval-augmented generation (RAG) models, prompt engineering, fine-tuning, understanding vector indexes in real-time applications, and A/B testing.\n"
     ]
    }
   ],
   "source": [
    "response = query_engine.query(\n",
    "    \"Which projects has gautam worked in his experience?\"\n",
    ")\n",
    "print(str(response))"
   ]
  },
  {
   "cell_type": "markdown",
   "id": "e50a1ac5",
   "metadata": {},
   "source": [
    "## Evaluation setup using TruLens"
   ]
  },
  {
   "cell_type": "code",
   "execution_count": 27,
   "id": "0ead7dc1-71b2-4001-918f-bf8d610fd3fd",
   "metadata": {
    "height": 132,
    "tags": []
   },
   "outputs": [
    {
     "name": "stdout",
     "output_type": "stream",
     "text": [
      "What are the keys to building a career in AI?\n",
      "How can teamwork contribute to success in AI?\n",
      "What is the importance of networking in AI?\n",
      "What are some good habits to develop for a successful career?\n",
      "How can altruism be beneficial in building a career?\n",
      "What is imposter syndrome and how does it relate to AI?\n",
      "Who are some accomplished individuals who have experienced imposter syndrome?\n",
      "What is the first step to becoming good at AI?\n",
      "What are some common challenges in AI?\n",
      "Is it normal to find parts of AI challenging?\n",
      "which countries Gautam lived in ?\n",
      "Which companies gautam worked in ?\n",
      "Which all skills Gautam posses ?\n",
      "What roles Gautam has worked as ?\n"
     ]
    }
   ],
   "source": [
    "eval_questions = []\n",
    "with open('eval_questions.txt', 'r') as file:\n",
    "    for line in file:\n",
    "        # Remove newline character and convert to integer\n",
    "        item = line.strip()\n",
    "        print(item)\n",
    "        eval_questions.append(item)"
   ]
  },
  {
   "cell_type": "code",
   "execution_count": 28,
   "id": "87a278f8",
   "metadata": {
    "height": 64
   },
   "outputs": [],
   "source": [
    "# You can try your own question:\n",
    "new_question = \"What is the right AI job for Gautam?\"\n",
    "eval_questions.append(new_question)"
   ]
  },
  {
   "cell_type": "code",
   "execution_count": 29,
   "id": "8d5204e8",
   "metadata": {
    "height": 30
   },
   "outputs": [
    {
     "name": "stdout",
     "output_type": "stream",
     "text": [
      "['What are the keys to building a career in AI?', 'How can teamwork contribute to success in AI?', 'What is the importance of networking in AI?', 'What are some good habits to develop for a successful career?', 'How can altruism be beneficial in building a career?', 'What is imposter syndrome and how does it relate to AI?', 'Who are some accomplished individuals who have experienced imposter syndrome?', 'What is the first step to becoming good at AI?', 'What are some common challenges in AI?', 'Is it normal to find parts of AI challenging?', 'which countries Gautam lived in ?', 'Which companies gautam worked in ?', 'Which all skills Gautam posses ?', 'What roles Gautam has worked as ?', 'What is the right AI job for Gautam?']\n"
     ]
    }
   ],
   "source": [
    "print(eval_questions)"
   ]
  },
  {
   "cell_type": "code",
   "execution_count": 30,
   "id": "c063c9c7-bf1e-4b24-9a22-d4281c0f954e",
   "metadata": {
    "height": 81,
    "tags": []
   },
   "outputs": [],
   "source": [
    "from trulens_eval import Tru\n",
    "tru = Tru()\n",
    "\n",
    "tru.reset_database()"
   ]
  },
  {
   "cell_type": "markdown",
   "id": "03802825-6ce4-4563-aeec-d8d57e095ad1",
   "metadata": {},
   "source": [
    "For the classroom, we've written some of the code in helper functions inside a utils.py file.  \n",
    "- You can view the utils.py file in the file directory by clicking on the \"Jupyter\" logo at the top of the notebook.\n",
    "- In later lessons, you'll get to work directly with the code that's currently wrapped inside these helper functions, to give you more options to customize your RAG pipeline."
   ]
  },
  {
   "cell_type": "code",
   "execution_count": 31,
   "id": "4f754bed-d16f-4c8d-a1a1-b36096272570",
   "metadata": {
    "height": 81,
    "tags": []
   },
   "outputs": [],
   "source": [
    "from utils import get_prebuilt_trulens_recorder\n",
    "\n",
    "tru_recorder = get_prebuilt_trulens_recorder(query_engine,\n",
    "                                             app_id=\"Direct Query Engine\")"
   ]
  },
  {
   "cell_type": "code",
   "execution_count": 32,
   "id": "4dbdfbcc-aac7-4805-9894-4fc016c66bf6",
   "metadata": {
    "height": 64,
    "tags": []
   },
   "outputs": [],
   "source": [
    "with tru_recorder as recording:\n",
    "    for question in eval_questions:\n",
    "        response = query_engine.query(question)"
   ]
  },
  {
   "cell_type": "code",
   "execution_count": 33,
   "id": "e14f512b-601c-42d0-bfac-bf41d9c577e7",
   "metadata": {
    "height": 30,
    "tags": []
   },
   "outputs": [],
   "source": [
    "records, feedback = tru.get_records_and_feedback(app_ids=[])"
   ]
  },
  {
   "cell_type": "code",
   "execution_count": 36,
   "id": "2da4a602-0d56-4bf8-9fa6-03ef0b7e254b",
   "metadata": {
    "height": 30,
    "tags": []
   },
   "outputs": [
    {
     "data": {
      "text/html": [
       "<div>\n",
       "<style scoped>\n",
       "    .dataframe tbody tr th:only-of-type {\n",
       "        vertical-align: middle;\n",
       "    }\n",
       "\n",
       "    .dataframe tbody tr th {\n",
       "        vertical-align: top;\n",
       "    }\n",
       "\n",
       "    .dataframe thead th {\n",
       "        text-align: right;\n",
       "    }\n",
       "</style>\n",
       "<table border=\"1\" class=\"dataframe\">\n",
       "  <thead>\n",
       "    <tr style=\"text-align: right;\">\n",
       "      <th></th>\n",
       "      <th>app_id</th>\n",
       "      <th>app_json</th>\n",
       "      <th>type</th>\n",
       "      <th>record_id</th>\n",
       "      <th>input</th>\n",
       "      <th>output</th>\n",
       "      <th>tags</th>\n",
       "      <th>record_json</th>\n",
       "      <th>cost_json</th>\n",
       "      <th>perf_json</th>\n",
       "      <th>ts</th>\n",
       "      <th>Context Relevance</th>\n",
       "      <th>Answer Relevance</th>\n",
       "      <th>Groundedness</th>\n",
       "      <th>Context Relevance_calls</th>\n",
       "      <th>Answer Relevance_calls</th>\n",
       "      <th>Groundedness_calls</th>\n",
       "      <th>latency</th>\n",
       "      <th>total_tokens</th>\n",
       "      <th>total_cost</th>\n",
       "    </tr>\n",
       "  </thead>\n",
       "  <tbody>\n",
       "    <tr>\n",
       "      <th>5</th>\n",
       "      <td>Direct Query Engine</td>\n",
       "      <td>{\"app_id\": \"Direct Query Engine\", \"tags\": \"-\",...</td>\n",
       "      <td>RetrieverQueryEngine(llama_index.query_engine....</td>\n",
       "      <td>record_hash_3245b0470811b570a762c4915adaf52b</td>\n",
       "      <td>\"What is imposter syndrome and how does it rel...</td>\n",
       "      <td>\"Imposter syndrome is a psychological pattern ...</td>\n",
       "      <td>-</td>\n",
       "      <td>{\"record_id\": \"record_hash_3245b0470811b570a76...</td>\n",
       "      <td>{\"n_requests\": 1, \"n_successful_requests\": 1, ...</td>\n",
       "      <td>{\"start_time\": \"2024-10-24T04:52:11.389196\", \"...</td>\n",
       "      <td>2024-10-24T04:52:12.925519</td>\n",
       "      <td>0.0</td>\n",
       "      <td>1.0</td>\n",
       "      <td>0.00</td>\n",
       "      <td>[{'args': {'prompt': 'What is imposter syndrom...</td>\n",
       "      <td>[{'args': {'prompt': 'What is imposter syndrom...</td>\n",
       "      <td>[{'args': {'source': 'Dear Hiring Manager,\n",
       "I a...</td>\n",
       "      <td>1</td>\n",
       "      <td>522</td>\n",
       "      <td>0.000831</td>\n",
       "    </tr>\n",
       "    <tr>\n",
       "      <th>6</th>\n",
       "      <td>Direct Query Engine</td>\n",
       "      <td>{\"app_id\": \"Direct Query Engine\", \"tags\": \"-\",...</td>\n",
       "      <td>RetrieverQueryEngine(llama_index.query_engine....</td>\n",
       "      <td>record_hash_495b754b813dd9e6b6365d9b8738a465</td>\n",
       "      <td>\"Who are some accomplished individuals who hav...</td>\n",
       "      <td>\"Many accomplished individuals, such as Maya A...</td>\n",
       "      <td>-</td>\n",
       "      <td>{\"record_id\": \"record_hash_495b754b813dd9e6b63...</td>\n",
       "      <td>{\"n_requests\": 1, \"n_successful_requests\": 1, ...</td>\n",
       "      <td>{\"start_time\": \"2024-10-24T04:52:13.029907\", \"...</td>\n",
       "      <td>2024-10-24T04:52:16.254478</td>\n",
       "      <td>0.0</td>\n",
       "      <td>1.0</td>\n",
       "      <td>0.00</td>\n",
       "      <td>[{'args': {'prompt': 'Who are some accomplishe...</td>\n",
       "      <td>[{'args': {'prompt': 'Who are some accomplishe...</td>\n",
       "      <td>[{'args': {'source': 'Dear Hiring Manager,\n",
       "I a...</td>\n",
       "      <td>3</td>\n",
       "      <td>454</td>\n",
       "      <td>0.000696</td>\n",
       "    </tr>\n",
       "    <tr>\n",
       "      <th>7</th>\n",
       "      <td>Direct Query Engine</td>\n",
       "      <td>{\"app_id\": \"Direct Query Engine\", \"tags\": \"-\",...</td>\n",
       "      <td>RetrieverQueryEngine(llama_index.query_engine....</td>\n",
       "      <td>record_hash_4110edab85ff42e6207bbac89d57811b</td>\n",
       "      <td>\"What is the first step to becoming good at AI?\"</td>\n",
       "      <td>\"Developing a strong foundation in programming...</td>\n",
       "      <td>-</td>\n",
       "      <td>{\"record_id\": \"record_hash_4110edab85ff42e6207...</td>\n",
       "      <td>{\"n_requests\": 1, \"n_successful_requests\": 1, ...</td>\n",
       "      <td>{\"start_time\": \"2024-10-24T04:52:16.357249\", \"...</td>\n",
       "      <td>2024-10-24T04:52:17.148729</td>\n",
       "      <td>0.0</td>\n",
       "      <td>1.0</td>\n",
       "      <td>0.50</td>\n",
       "      <td>[{'args': {'prompt': 'What is the first step t...</td>\n",
       "      <td>[{'args': {'prompt': 'What is the first step t...</td>\n",
       "      <td>[{'args': {'source': 'Dear Hiring Manager,\n",
       "I a...</td>\n",
       "      <td>0</td>\n",
       "      <td>446</td>\n",
       "      <td>0.000680</td>\n",
       "    </tr>\n",
       "    <tr>\n",
       "      <th>8</th>\n",
       "      <td>Direct Query Engine</td>\n",
       "      <td>{\"app_id\": \"Direct Query Engine\", \"tags\": \"-\",...</td>\n",
       "      <td>RetrieverQueryEngine(llama_index.query_engine....</td>\n",
       "      <td>record_hash_5aefab981ab965db849fa658d29fdfb5</td>\n",
       "      <td>\"What are some common challenges in AI?\"</td>\n",
       "      <td>\"Some common challenges in AI include data qua...</td>\n",
       "      <td>-</td>\n",
       "      <td>{\"record_id\": \"record_hash_5aefab981ab965db849...</td>\n",
       "      <td>{\"n_requests\": 1, \"n_successful_requests\": 1, ...</td>\n",
       "      <td>{\"start_time\": \"2024-10-24T04:52:17.249780\", \"...</td>\n",
       "      <td>2024-10-24T04:52:18.254795</td>\n",
       "      <td>0.0</td>\n",
       "      <td>1.0</td>\n",
       "      <td>0.18</td>\n",
       "      <td>[{'args': {'prompt': 'What are some common cha...</td>\n",
       "      <td>[{'args': {'prompt': 'What are some common cha...</td>\n",
       "      <td>[{'args': {'source': 'Dear Hiring Manager,\n",
       "I a...</td>\n",
       "      <td>1</td>\n",
       "      <td>467</td>\n",
       "      <td>0.000723</td>\n",
       "    </tr>\n",
       "    <tr>\n",
       "      <th>9</th>\n",
       "      <td>Direct Query Engine</td>\n",
       "      <td>{\"app_id\": \"Direct Query Engine\", \"tags\": \"-\",...</td>\n",
       "      <td>RetrieverQueryEngine(llama_index.query_engine....</td>\n",
       "      <td>record_hash_fa06ec8cfd168ef7db1ac521927fd2f1</td>\n",
       "      <td>\"Is it normal to find parts of AI challenging?\"</td>\n",
       "      <td>\"Yes, it is normal to find parts of AI challen...</td>\n",
       "      <td>-</td>\n",
       "      <td>{\"record_id\": \"record_hash_fa06ec8cfd168ef7db1...</td>\n",
       "      <td>{\"n_requests\": 1, \"n_successful_requests\": 1, ...</td>\n",
       "      <td>{\"start_time\": \"2024-10-24T04:52:18.361352\", \"...</td>\n",
       "      <td>2024-10-24T04:52:19.294723</td>\n",
       "      <td>0.0</td>\n",
       "      <td>1.0</td>\n",
       "      <td>NaN</td>\n",
       "      <td>[{'args': {'prompt': 'Is it normal to find par...</td>\n",
       "      <td>[{'args': {'prompt': 'Is it normal to find par...</td>\n",
       "      <td>NaN</td>\n",
       "      <td>0</td>\n",
       "      <td>459</td>\n",
       "      <td>0.000706</td>\n",
       "    </tr>\n",
       "    <tr>\n",
       "      <th>10</th>\n",
       "      <td>Direct Query Engine</td>\n",
       "      <td>{\"app_id\": \"Direct Query Engine\", \"tags\": \"-\",...</td>\n",
       "      <td>RetrieverQueryEngine(llama_index.query_engine....</td>\n",
       "      <td>record_hash_0a1edd3906633a0f77ce0cc123a52c09</td>\n",
       "      <td>\"which countries Gautam lived in ?\"</td>\n",
       "      <td>\"The context information does not provide any ...</td>\n",
       "      <td>-</td>\n",
       "      <td>{\"record_id\": \"record_hash_0a1edd3906633a0f77c...</td>\n",
       "      <td>{\"n_requests\": 1, \"n_successful_requests\": 1, ...</td>\n",
       "      <td>{\"start_time\": \"2024-10-24T04:52:19.389982\", \"...</td>\n",
       "      <td>2024-10-24T04:52:20.108160</td>\n",
       "      <td>NaN</td>\n",
       "      <td>NaN</td>\n",
       "      <td>NaN</td>\n",
       "      <td>NaN</td>\n",
       "      <td>NaN</td>\n",
       "      <td>NaN</td>\n",
       "      <td>0</td>\n",
       "      <td>437</td>\n",
       "      <td>0.000664</td>\n",
       "    </tr>\n",
       "    <tr>\n",
       "      <th>11</th>\n",
       "      <td>Direct Query Engine</td>\n",
       "      <td>{\"app_id\": \"Direct Query Engine\", \"tags\": \"-\",...</td>\n",
       "      <td>RetrieverQueryEngine(llama_index.query_engine....</td>\n",
       "      <td>record_hash_274eaed2fbd3dda89c029ab746396829</td>\n",
       "      <td>\"Which companies gautam worked in ?\"</td>\n",
       "      <td>\"Gautam worked at Amazon Web Services (AWS).\"</td>\n",
       "      <td>-</td>\n",
       "      <td>{\"record_id\": \"record_hash_274eaed2fbd3dda89c0...</td>\n",
       "      <td>{\"n_requests\": 1, \"n_successful_requests\": 1, ...</td>\n",
       "      <td>{\"start_time\": \"2024-10-24T04:52:20.204088\", \"...</td>\n",
       "      <td>2024-10-24T04:52:20.863678</td>\n",
       "      <td>NaN</td>\n",
       "      <td>NaN</td>\n",
       "      <td>NaN</td>\n",
       "      <td>NaN</td>\n",
       "      <td>NaN</td>\n",
       "      <td>NaN</td>\n",
       "      <td>0</td>\n",
       "      <td>432</td>\n",
       "      <td>0.000654</td>\n",
       "    </tr>\n",
       "    <tr>\n",
       "      <th>12</th>\n",
       "      <td>Direct Query Engine</td>\n",
       "      <td>{\"app_id\": \"Direct Query Engine\", \"tags\": \"-\",...</td>\n",
       "      <td>RetrieverQueryEngine(llama_index.query_engine....</td>\n",
       "      <td>record_hash_8bc07ab38b9f917c92be5a0fb36ec211</td>\n",
       "      <td>\"Which all skills Gautam posses ?\"</td>\n",
       "      <td>\"Gautam possesses skills in data science, busi...</td>\n",
       "      <td>-</td>\n",
       "      <td>{\"record_id\": \"record_hash_8bc07ab38b9f917c92b...</td>\n",
       "      <td>{\"n_requests\": 1, \"n_successful_requests\": 1, ...</td>\n",
       "      <td>{\"start_time\": \"2024-10-24T04:52:20.971684\", \"...</td>\n",
       "      <td>2024-10-24T04:52:22.560262</td>\n",
       "      <td>NaN</td>\n",
       "      <td>NaN</td>\n",
       "      <td>NaN</td>\n",
       "      <td>NaN</td>\n",
       "      <td>NaN</td>\n",
       "      <td>NaN</td>\n",
       "      <td>1</td>\n",
       "      <td>519</td>\n",
       "      <td>0.000828</td>\n",
       "    </tr>\n",
       "    <tr>\n",
       "      <th>13</th>\n",
       "      <td>Direct Query Engine</td>\n",
       "      <td>{\"app_id\": \"Direct Query Engine\", \"tags\": \"-\",...</td>\n",
       "      <td>RetrieverQueryEngine(llama_index.query_engine....</td>\n",
       "      <td>record_hash_74fc2ec7f38cf33ca7ef4d47cbca364d</td>\n",
       "      <td>\"What roles Gautam has worked as ?\"</td>\n",
       "      <td>\"Gautam has worked in roles related to data sc...</td>\n",
       "      <td>-</td>\n",
       "      <td>{\"record_id\": \"record_hash_74fc2ec7f38cf33ca7e...</td>\n",
       "      <td>{\"n_requests\": 1, \"n_successful_requests\": 1, ...</td>\n",
       "      <td>{\"start_time\": \"2024-10-24T04:52:22.656905\", \"...</td>\n",
       "      <td>2024-10-24T04:52:23.851711</td>\n",
       "      <td>NaN</td>\n",
       "      <td>NaN</td>\n",
       "      <td>NaN</td>\n",
       "      <td>NaN</td>\n",
       "      <td>NaN</td>\n",
       "      <td>NaN</td>\n",
       "      <td>1</td>\n",
       "      <td>485</td>\n",
       "      <td>0.000759</td>\n",
       "    </tr>\n",
       "    <tr>\n",
       "      <th>14</th>\n",
       "      <td>Direct Query Engine</td>\n",
       "      <td>{\"app_id\": \"Direct Query Engine\", \"tags\": \"-\",...</td>\n",
       "      <td>RetrieverQueryEngine(llama_index.query_engine....</td>\n",
       "      <td>record_hash_7811c8a57aa05a0323dde7ee1488077f</td>\n",
       "      <td>\"What is the right AI job for Gautam?\"</td>\n",
       "      <td>\"The right AI job for Gautam would be a Data S...</td>\n",
       "      <td>-</td>\n",
       "      <td>{\"record_id\": \"record_hash_7811c8a57aa05a0323d...</td>\n",
       "      <td>{\"n_requests\": 1, \"n_successful_requests\": 1, ...</td>\n",
       "      <td>{\"start_time\": \"2024-10-24T04:52:23.948615\", \"...</td>\n",
       "      <td>2024-10-24T04:52:25.076557</td>\n",
       "      <td>NaN</td>\n",
       "      <td>NaN</td>\n",
       "      <td>NaN</td>\n",
       "      <td>NaN</td>\n",
       "      <td>NaN</td>\n",
       "      <td>NaN</td>\n",
       "      <td>1</td>\n",
       "      <td>486</td>\n",
       "      <td>0.000760</td>\n",
       "    </tr>\n",
       "  </tbody>\n",
       "</table>\n",
       "</div>"
      ],
      "text/plain": [
       "                 app_id                                           app_json  \\\n",
       "5   Direct Query Engine  {\"app_id\": \"Direct Query Engine\", \"tags\": \"-\",...   \n",
       "6   Direct Query Engine  {\"app_id\": \"Direct Query Engine\", \"tags\": \"-\",...   \n",
       "7   Direct Query Engine  {\"app_id\": \"Direct Query Engine\", \"tags\": \"-\",...   \n",
       "8   Direct Query Engine  {\"app_id\": \"Direct Query Engine\", \"tags\": \"-\",...   \n",
       "9   Direct Query Engine  {\"app_id\": \"Direct Query Engine\", \"tags\": \"-\",...   \n",
       "10  Direct Query Engine  {\"app_id\": \"Direct Query Engine\", \"tags\": \"-\",...   \n",
       "11  Direct Query Engine  {\"app_id\": \"Direct Query Engine\", \"tags\": \"-\",...   \n",
       "12  Direct Query Engine  {\"app_id\": \"Direct Query Engine\", \"tags\": \"-\",...   \n",
       "13  Direct Query Engine  {\"app_id\": \"Direct Query Engine\", \"tags\": \"-\",...   \n",
       "14  Direct Query Engine  {\"app_id\": \"Direct Query Engine\", \"tags\": \"-\",...   \n",
       "\n",
       "                                                 type  \\\n",
       "5   RetrieverQueryEngine(llama_index.query_engine....   \n",
       "6   RetrieverQueryEngine(llama_index.query_engine....   \n",
       "7   RetrieverQueryEngine(llama_index.query_engine....   \n",
       "8   RetrieverQueryEngine(llama_index.query_engine....   \n",
       "9   RetrieverQueryEngine(llama_index.query_engine....   \n",
       "10  RetrieverQueryEngine(llama_index.query_engine....   \n",
       "11  RetrieverQueryEngine(llama_index.query_engine....   \n",
       "12  RetrieverQueryEngine(llama_index.query_engine....   \n",
       "13  RetrieverQueryEngine(llama_index.query_engine....   \n",
       "14  RetrieverQueryEngine(llama_index.query_engine....   \n",
       "\n",
       "                                       record_id  \\\n",
       "5   record_hash_3245b0470811b570a762c4915adaf52b   \n",
       "6   record_hash_495b754b813dd9e6b6365d9b8738a465   \n",
       "7   record_hash_4110edab85ff42e6207bbac89d57811b   \n",
       "8   record_hash_5aefab981ab965db849fa658d29fdfb5   \n",
       "9   record_hash_fa06ec8cfd168ef7db1ac521927fd2f1   \n",
       "10  record_hash_0a1edd3906633a0f77ce0cc123a52c09   \n",
       "11  record_hash_274eaed2fbd3dda89c029ab746396829   \n",
       "12  record_hash_8bc07ab38b9f917c92be5a0fb36ec211   \n",
       "13  record_hash_74fc2ec7f38cf33ca7ef4d47cbca364d   \n",
       "14  record_hash_7811c8a57aa05a0323dde7ee1488077f   \n",
       "\n",
       "                                                input  \\\n",
       "5   \"What is imposter syndrome and how does it rel...   \n",
       "6   \"Who are some accomplished individuals who hav...   \n",
       "7    \"What is the first step to becoming good at AI?\"   \n",
       "8            \"What are some common challenges in AI?\"   \n",
       "9     \"Is it normal to find parts of AI challenging?\"   \n",
       "10                \"which countries Gautam lived in ?\"   \n",
       "11               \"Which companies gautam worked in ?\"   \n",
       "12                 \"Which all skills Gautam posses ?\"   \n",
       "13                \"What roles Gautam has worked as ?\"   \n",
       "14             \"What is the right AI job for Gautam?\"   \n",
       "\n",
       "                                               output tags  \\\n",
       "5   \"Imposter syndrome is a psychological pattern ...    -   \n",
       "6   \"Many accomplished individuals, such as Maya A...    -   \n",
       "7   \"Developing a strong foundation in programming...    -   \n",
       "8   \"Some common challenges in AI include data qua...    -   \n",
       "9   \"Yes, it is normal to find parts of AI challen...    -   \n",
       "10  \"The context information does not provide any ...    -   \n",
       "11      \"Gautam worked at Amazon Web Services (AWS).\"    -   \n",
       "12  \"Gautam possesses skills in data science, busi...    -   \n",
       "13  \"Gautam has worked in roles related to data sc...    -   \n",
       "14  \"The right AI job for Gautam would be a Data S...    -   \n",
       "\n",
       "                                          record_json  \\\n",
       "5   {\"record_id\": \"record_hash_3245b0470811b570a76...   \n",
       "6   {\"record_id\": \"record_hash_495b754b813dd9e6b63...   \n",
       "7   {\"record_id\": \"record_hash_4110edab85ff42e6207...   \n",
       "8   {\"record_id\": \"record_hash_5aefab981ab965db849...   \n",
       "9   {\"record_id\": \"record_hash_fa06ec8cfd168ef7db1...   \n",
       "10  {\"record_id\": \"record_hash_0a1edd3906633a0f77c...   \n",
       "11  {\"record_id\": \"record_hash_274eaed2fbd3dda89c0...   \n",
       "12  {\"record_id\": \"record_hash_8bc07ab38b9f917c92b...   \n",
       "13  {\"record_id\": \"record_hash_74fc2ec7f38cf33ca7e...   \n",
       "14  {\"record_id\": \"record_hash_7811c8a57aa05a0323d...   \n",
       "\n",
       "                                            cost_json  \\\n",
       "5   {\"n_requests\": 1, \"n_successful_requests\": 1, ...   \n",
       "6   {\"n_requests\": 1, \"n_successful_requests\": 1, ...   \n",
       "7   {\"n_requests\": 1, \"n_successful_requests\": 1, ...   \n",
       "8   {\"n_requests\": 1, \"n_successful_requests\": 1, ...   \n",
       "9   {\"n_requests\": 1, \"n_successful_requests\": 1, ...   \n",
       "10  {\"n_requests\": 1, \"n_successful_requests\": 1, ...   \n",
       "11  {\"n_requests\": 1, \"n_successful_requests\": 1, ...   \n",
       "12  {\"n_requests\": 1, \"n_successful_requests\": 1, ...   \n",
       "13  {\"n_requests\": 1, \"n_successful_requests\": 1, ...   \n",
       "14  {\"n_requests\": 1, \"n_successful_requests\": 1, ...   \n",
       "\n",
       "                                            perf_json  \\\n",
       "5   {\"start_time\": \"2024-10-24T04:52:11.389196\", \"...   \n",
       "6   {\"start_time\": \"2024-10-24T04:52:13.029907\", \"...   \n",
       "7   {\"start_time\": \"2024-10-24T04:52:16.357249\", \"...   \n",
       "8   {\"start_time\": \"2024-10-24T04:52:17.249780\", \"...   \n",
       "9   {\"start_time\": \"2024-10-24T04:52:18.361352\", \"...   \n",
       "10  {\"start_time\": \"2024-10-24T04:52:19.389982\", \"...   \n",
       "11  {\"start_time\": \"2024-10-24T04:52:20.204088\", \"...   \n",
       "12  {\"start_time\": \"2024-10-24T04:52:20.971684\", \"...   \n",
       "13  {\"start_time\": \"2024-10-24T04:52:22.656905\", \"...   \n",
       "14  {\"start_time\": \"2024-10-24T04:52:23.948615\", \"...   \n",
       "\n",
       "                            ts  Context Relevance  Answer Relevance  \\\n",
       "5   2024-10-24T04:52:12.925519                0.0               1.0   \n",
       "6   2024-10-24T04:52:16.254478                0.0               1.0   \n",
       "7   2024-10-24T04:52:17.148729                0.0               1.0   \n",
       "8   2024-10-24T04:52:18.254795                0.0               1.0   \n",
       "9   2024-10-24T04:52:19.294723                0.0               1.0   \n",
       "10  2024-10-24T04:52:20.108160                NaN               NaN   \n",
       "11  2024-10-24T04:52:20.863678                NaN               NaN   \n",
       "12  2024-10-24T04:52:22.560262                NaN               NaN   \n",
       "13  2024-10-24T04:52:23.851711                NaN               NaN   \n",
       "14  2024-10-24T04:52:25.076557                NaN               NaN   \n",
       "\n",
       "    Groundedness                            Context Relevance_calls  \\\n",
       "5           0.00  [{'args': {'prompt': 'What is imposter syndrom...   \n",
       "6           0.00  [{'args': {'prompt': 'Who are some accomplishe...   \n",
       "7           0.50  [{'args': {'prompt': 'What is the first step t...   \n",
       "8           0.18  [{'args': {'prompt': 'What are some common cha...   \n",
       "9            NaN  [{'args': {'prompt': 'Is it normal to find par...   \n",
       "10           NaN                                                NaN   \n",
       "11           NaN                                                NaN   \n",
       "12           NaN                                                NaN   \n",
       "13           NaN                                                NaN   \n",
       "14           NaN                                                NaN   \n",
       "\n",
       "                               Answer Relevance_calls  \\\n",
       "5   [{'args': {'prompt': 'What is imposter syndrom...   \n",
       "6   [{'args': {'prompt': 'Who are some accomplishe...   \n",
       "7   [{'args': {'prompt': 'What is the first step t...   \n",
       "8   [{'args': {'prompt': 'What are some common cha...   \n",
       "9   [{'args': {'prompt': 'Is it normal to find par...   \n",
       "10                                                NaN   \n",
       "11                                                NaN   \n",
       "12                                                NaN   \n",
       "13                                                NaN   \n",
       "14                                                NaN   \n",
       "\n",
       "                                   Groundedness_calls  latency  total_tokens  \\\n",
       "5   [{'args': {'source': 'Dear Hiring Manager,\n",
       "I a...        1           522   \n",
       "6   [{'args': {'source': 'Dear Hiring Manager,\n",
       "I a...        3           454   \n",
       "7   [{'args': {'source': 'Dear Hiring Manager,\n",
       "I a...        0           446   \n",
       "8   [{'args': {'source': 'Dear Hiring Manager,\n",
       "I a...        1           467   \n",
       "9                                                 NaN        0           459   \n",
       "10                                                NaN        0           437   \n",
       "11                                                NaN        0           432   \n",
       "12                                                NaN        1           519   \n",
       "13                                                NaN        1           485   \n",
       "14                                                NaN        1           486   \n",
       "\n",
       "    total_cost  \n",
       "5     0.000831  \n",
       "6     0.000696  \n",
       "7     0.000680  \n",
       "8     0.000723  \n",
       "9     0.000706  \n",
       "10    0.000664  \n",
       "11    0.000654  \n",
       "12    0.000828  \n",
       "13    0.000759  \n",
       "14    0.000760  "
      ]
     },
     "execution_count": 36,
     "metadata": {},
     "output_type": "execute_result"
    }
   ],
   "source": [
    "records.tail(10)"
   ]
  },
  {
   "cell_type": "code",
   "execution_count": 37,
   "id": "64310897-179b-4081-aab8-f08a3392a078",
   "metadata": {
    "height": 47,
    "tags": []
   },
   "outputs": [
    {
     "name": "stdout",
     "output_type": "stream",
     "text": [
      "Starting dashboard ...\n",
      "Config file already exists. Skipping writing process.\n",
      "Credentials file already exists. Skipping writing process.\n",
      "Dashboard already running at path: https://s172-29-38-34p38560.lab-aws-production.deeplearning.ai/\n"
     ]
    },
    {
     "data": {
      "text/plain": [
       "<Popen: returncode: None args: ['streamlit', 'run', '--server.headless=True'...>"
      ]
     },
     "execution_count": 37,
     "metadata": {},
     "output_type": "execute_result"
    }
   ],
   "source": [
    "# launches on http://localhost:8501/\n",
    "tru.run_dashboard()"
   ]
  },
  {
   "cell_type": "markdown",
   "id": "a4eedcef",
   "metadata": {},
   "source": [
    "## Advanced RAG pipeline"
   ]
  },
  {
   "cell_type": "markdown",
   "id": "9a17ea2b",
   "metadata": {},
   "source": [
    "### 1. Sentence Window retrieval"
   ]
  },
  {
   "cell_type": "code",
   "execution_count": 38,
   "id": "dae4a668-3699-4750-82f7-e53ae1bca3a7",
   "metadata": {
    "height": 64,
    "tags": []
   },
   "outputs": [],
   "source": [
    "from llama_index.llms import OpenAI\n",
    "\n",
    "llm = OpenAI(model=\"gpt-3.5-turbo\", temperature=0.1)"
   ]
  },
  {
   "cell_type": "code",
   "execution_count": 39,
   "id": "78f7678f-358d-448d-b153-11ac8e96a7fc",
   "metadata": {
    "height": 149,
    "tags": []
   },
   "outputs": [],
   "source": [
    "from utils import build_sentence_window_index\n",
    "\n",
    "sentence_index = build_sentence_window_index(\n",
    "    document,\n",
    "    llm,\n",
    "    embed_model=\"local:BAAI/bge-small-en-v1.5\",\n",
    "    save_dir=\"sentence_index\"\n",
    ")"
   ]
  },
  {
   "cell_type": "code",
   "execution_count": 40,
   "id": "72f904c3-9845-4df5-9d2e-e5115160f987",
   "metadata": {
    "height": 64,
    "tags": []
   },
   "outputs": [
    {
     "data": {
      "application/vnd.jupyter.widget-view+json": {
       "model_id": "b9b191672c184c8dbeff7c757e22a610",
       "version_major": 2,
       "version_minor": 0
      },
      "text/plain": [
       "config.json:   0%|          | 0.00/799 [00:00<?, ?B/s]"
      ]
     },
     "metadata": {},
     "output_type": "display_data"
    },
    {
     "data": {
      "application/vnd.jupyter.widget-view+json": {
       "model_id": "60353d7e07b24c67a5479bbd27fb8f85",
       "version_major": 2,
       "version_minor": 0
      },
      "text/plain": [
       "model.safetensors:   0%|          | 0.00/1.11G [00:00<?, ?B/s]"
      ]
     },
     "metadata": {},
     "output_type": "display_data"
    },
    {
     "data": {
      "application/vnd.jupyter.widget-view+json": {
       "model_id": "0b6b651d3f8841039679b3dc007fd377",
       "version_major": 2,
       "version_minor": 0
      },
      "text/plain": [
       "tokenizer_config.json:   0%|          | 0.00/443 [00:00<?, ?B/s]"
      ]
     },
     "metadata": {},
     "output_type": "display_data"
    },
    {
     "data": {
      "application/vnd.jupyter.widget-view+json": {
       "model_id": "e935c7c04829497fb5ae6b84b152a95d",
       "version_major": 2,
       "version_minor": 0
      },
      "text/plain": [
       "sentencepiece.bpe.model:   0%|          | 0.00/5.07M [00:00<?, ?B/s]"
      ]
     },
     "metadata": {},
     "output_type": "display_data"
    },
    {
     "data": {
      "application/vnd.jupyter.widget-view+json": {
       "model_id": "18790c8c9b9945d58bcec8a01b9121fe",
       "version_major": 2,
       "version_minor": 0
      },
      "text/plain": [
       "tokenizer.json:   0%|          | 0.00/17.1M [00:00<?, ?B/s]"
      ]
     },
     "metadata": {},
     "output_type": "display_data"
    },
    {
     "data": {
      "application/vnd.jupyter.widget-view+json": {
       "model_id": "b87b68bbfb7a4242950cf9690cba5f10",
       "version_major": 2,
       "version_minor": 0
      },
      "text/plain": [
       "special_tokens_map.json:   0%|          | 0.00/279 [00:00<?, ?B/s]"
      ]
     },
     "metadata": {},
     "output_type": "display_data"
    }
   ],
   "source": [
    "from utils import get_sentence_window_query_engine\n",
    "\n",
    "sentence_window_engine = get_sentence_window_query_engine(sentence_index)"
   ]
  },
  {
   "cell_type": "code",
   "execution_count": 41,
   "id": "f59e2314-7cac-42f4-a552-9a8e4db641eb",
   "metadata": {
    "height": 81,
    "tags": []
   },
   "outputs": [
    {
     "name": "stdout",
     "output_type": "stream",
     "text": [
      "Gautam worked on projects involving data pipelines and anomaly detection before Amazon Web Services.\n"
     ]
    }
   ],
   "source": [
    "window_response = sentence_window_engine.query(\n",
    "    \"Which project Gautam worked on before amazon web services?\"\n",
    ")\n",
    "print(str(window_response))"
   ]
  },
  {
   "cell_type": "code",
   "execution_count": 42,
   "id": "b5c10917-8846-4e73-838d-6232c906a7db",
   "metadata": {
    "height": 115,
    "tags": []
   },
   "outputs": [],
   "source": [
    "tru.reset_database()\n",
    "\n",
    "tru_recorder_sentence_window = get_prebuilt_trulens_recorder(\n",
    "    sentence_window_engine,\n",
    "    app_id = \"Sentence Window Query Engine\"\n",
    ")"
   ]
  },
  {
   "cell_type": "code",
   "execution_count": 43,
   "id": "11710e67-aba8-479e-8585-c4c611e2c1d2",
   "metadata": {
    "height": 98,
    "tags": []
   },
   "outputs": [
    {
     "name": "stdout",
     "output_type": "stream",
     "text": [
      "What are the keys to building a career in AI?\n",
      "Developing expertise in data science, machine learning, and cloud computing, along with proficiency in programming languages like Python and SQL, are key components to building a successful career in AI. Additionally, hands-on experience with tools and platforms such as Azure AI, AWS, Redshift, Azure ML Studio, and Databricks can further enhance one's capabilities in the field. Continuous learning, staying updated with the latest trends, and actively working on projects involving data analysis, modeling, and machine learning are essential for advancing a career in AI.\n",
      "How can teamwork contribute to success in AI?\n",
      "Collaboration and teamwork are essential in AI projects as they bring together diverse perspectives, expertise, and skills. By working in a team, individuals can leverage each other's strengths, share knowledge, and collectively solve complex problems more effectively. Teamwork fosters innovation, encourages creativity, and promotes continuous learning, leading to the development of more robust AI solutions. Additionally, collaboration enables team members to validate ideas, provide constructive feedback, and ensure that AI models are thoroughly tested and refined, ultimately increasing the chances of success in AI projects.\n",
      "What is the importance of networking in AI?\n",
      "Networking in AI is crucial for collaboration, knowledge sharing, and staying updated on the latest advancements in the field. It allows professionals to exchange ideas, learn from each other's experiences, and potentially collaborate on projects that can lead to innovative solutions. Additionally, networking provides opportunities to build a strong professional community, which can be beneficial for career growth and staying informed about emerging trends and technologies in the AI domain.\n",
      "What are some good habits to develop for a successful career?\n",
      "Developing good habits such as continuous learning, staying organized, effective time management, clear communication, networking, seeking feedback, and maintaining a healthy work-life balance are essential for a successful career.\n",
      "How can altruism be beneficial in building a career?\n",
      "Altruism can be beneficial in building a career by fostering positive relationships with colleagues and clients, enhancing teamwork and collaboration, and creating a reputation for being a supportive and helpful team member. It can also lead to opportunities for mentorship, skill development, and networking, ultimately contributing to personal growth and professional success.\n",
      "What is imposter syndrome and how does it relate to AI?\n",
      "Imposter syndrome is a psychological pattern where individuals doubt their accomplishments and have a persistent fear of being exposed as a fraud, despite evidence of their competence. In the field of AI, imposter syndrome can manifest when professionals feel inadequate or doubt their abilities in areas such as machine learning, data analysis, or AI development, even if they have the necessary skills and experience. This can lead to a lack of confidence in their work, reluctance to take on new challenges, and a feeling of not belonging in the AI industry.\n",
      "Who are some accomplished individuals who have experienced imposter syndrome?\n",
      "Many accomplished individuals, including Maya Angelou, Albert Einstein, and Serena Williams, have experienced imposter syndrome.\n",
      "What is the first step to becoming good at AI?\n",
      "Developing a strong foundation in programming languages like Python and SQL is the first step to becoming good at AI.\n",
      "What are some common challenges in AI?\n",
      "Some common challenges in AI include data quality and quantity issues, interpretability and explainability of AI models, ethical concerns related to bias and fairness, the need for continuous learning and adaptation of AI systems, as well as cybersecurity risks associated with AI technologies. Additionally, challenges related to scalability, integration with existing systems, and regulatory compliance are also common in the field of AI.\n",
      "Is it normal to find parts of AI challenging?\n",
      "Yes, it is normal to find parts of AI challenging, as it is a complex and rapidly evolving field that encompasses various disciplines such as machine learning, deep learning, natural language processing, and more. Different aspects of AI, such as model building, data preprocessing, feature engineering, and algorithm selection, can present challenges that require continuous learning and problem-solving skills to overcome.\n",
      "which countries Gautam lived in ?\n",
      "Gautam has not mentioned any specific countries where he has lived in the provided context.\n",
      "Which companies gautam worked in ?\n",
      "Gautam Kumar worked at Amazon Web Services (AWS) based on the context information provided.\n",
      "Which all skills Gautam posses ?\n",
      "Gautam possesses skills in data science, business intelligence, software development, end-to-end machine learning, data analysis, cloud computing, Python, and SQL.\n",
      "What roles Gautam has worked as ?\n",
      "Gautam has worked in roles that involve statistical concepts such as hypothesis testing and confidence intervals, particularly in A/B testing projects.\n",
      "What is the right AI job for Gautam?\n",
      "Gautam would be well-suited for a role that involves working with machine learning, data analysis, cloud computing, Python, SQL, and AI technologies.\n"
     ]
    }
   ],
   "source": [
    "for question in eval_questions:\n",
    "    with tru_recorder_sentence_window as recording:\n",
    "        response = sentence_window_engine.query(question)\n",
    "        print(question)\n",
    "        print(str(response))"
   ]
  },
  {
   "cell_type": "code",
   "execution_count": 46,
   "id": "869d1e55-729b-45f2-a0f9-773c49d4616f",
   "metadata": {
    "height": 30,
    "tags": []
   },
   "outputs": [
    {
     "data": {
      "text/html": [
       "<div>\n",
       "<style scoped>\n",
       "    .dataframe tbody tr th:only-of-type {\n",
       "        vertical-align: middle;\n",
       "    }\n",
       "\n",
       "    .dataframe tbody tr th {\n",
       "        vertical-align: top;\n",
       "    }\n",
       "\n",
       "    .dataframe thead th {\n",
       "        text-align: right;\n",
       "    }\n",
       "</style>\n",
       "<table border=\"1\" class=\"dataframe\">\n",
       "  <thead>\n",
       "    <tr style=\"text-align: right;\">\n",
       "      <th></th>\n",
       "      <th>Groundedness</th>\n",
       "      <th>Answer Relevance</th>\n",
       "      <th>Context Relevance</th>\n",
       "      <th>latency</th>\n",
       "      <th>total_cost</th>\n",
       "    </tr>\n",
       "    <tr>\n",
       "      <th>app_id</th>\n",
       "      <th></th>\n",
       "      <th></th>\n",
       "      <th></th>\n",
       "      <th></th>\n",
       "      <th></th>\n",
       "    </tr>\n",
       "  </thead>\n",
       "  <tbody>\n",
       "    <tr>\n",
       "      <th>Sentence Window Query Engine</th>\n",
       "      <td>0.339444</td>\n",
       "      <td>1.0</td>\n",
       "      <td>0.04</td>\n",
       "      <td>1.333333</td>\n",
       "      <td>0.000724</td>\n",
       "    </tr>\n",
       "  </tbody>\n",
       "</table>\n",
       "</div>"
      ],
      "text/plain": [
       "                              Groundedness  Answer Relevance  \\\n",
       "app_id                                                         \n",
       "Sentence Window Query Engine      0.339444               1.0   \n",
       "\n",
       "                              Context Relevance   latency  total_cost  \n",
       "app_id                                                                 \n",
       "Sentence Window Query Engine               0.04  1.333333    0.000724  "
      ]
     },
     "execution_count": 46,
     "metadata": {},
     "output_type": "execute_result"
    }
   ],
   "source": [
    "tru.get_leaderboard(app_ids=[])"
   ]
  },
  {
   "cell_type": "code",
   "execution_count": 48,
   "id": "0b92d0f2-2e80-48d5-92af-b3655eb03ea2",
   "metadata": {
    "height": 47,
    "tags": []
   },
   "outputs": [
    {
     "name": "stdout",
     "output_type": "stream",
     "text": [
      "Starting dashboard ...\n",
      "Config file already exists. Skipping writing process.\n",
      "Credentials file already exists. Skipping writing process.\n",
      "Dashboard already running at path: https://s172-29-38-34p38560.lab-aws-production.deeplearning.ai/\n"
     ]
    },
    {
     "data": {
      "text/plain": [
       "<Popen: returncode: None args: ['streamlit', 'run', '--server.headless=True'...>"
      ]
     },
     "execution_count": 48,
     "metadata": {},
     "output_type": "execute_result"
    }
   ],
   "source": [
    "# launches on http://localhost:8501/\n",
    "tru.run_dashboard()"
   ]
  },
  {
   "cell_type": "markdown",
   "id": "a92e2c55",
   "metadata": {},
   "source": [
    "### 2. Auto-merging retrieval"
   ]
  },
  {
   "cell_type": "code",
   "execution_count": 52,
   "id": "558c639b-31eb-4c34-b6c4-fe6ae5717733",
   "metadata": {
    "height": 149,
    "tags": []
   },
   "outputs": [],
   "source": [
    "from utils import build_automerging_index\n",
    "\n",
    "automerging_index = build_automerging_index(\n",
    "    documents,\n",
    "    llm,\n",
    "    embed_model=\"local:BAAI/bge-small-en-v1.5\",\n",
    "    save_dir=\"merging_index\"\n",
    ")"
   ]
  },
  {
   "cell_type": "code",
   "execution_count": 53,
   "id": "b32265f2-0247-42df-9abe-97d52f69edcf",
   "metadata": {
    "height": 98,
    "tags": []
   },
   "outputs": [],
   "source": [
    "from utils import get_automerging_query_engine\n",
    "\n",
    "automerging_query_engine = get_automerging_query_engine(\n",
    "    automerging_index,\n",
    ")"
   ]
  },
  {
   "cell_type": "code",
   "execution_count": 54,
   "id": "918ed568-220e-4c7c-aa60-cfa58ef1fcbd",
   "metadata": {
    "height": 81,
    "tags": []
   },
   "outputs": [
    {
     "name": "stdout",
     "output_type": "stream",
     "text": [
      "> Merging 4 nodes into parent node.\n",
      "> Parent node id: 9ff86d3d-775b-4e39-92d3-e1d995ef31df.\n",
      "> Parent node text: Dear Hiring Manager,\n",
      "I am writing to express my interest in the Data Scientist position at Avanad...\n",
      "\n",
      "> Merging 1 nodes into parent node.\n",
      "> Parent node id: 6a410070-4faa-4bb7-9c7f-e58370347a52.\n",
      "> Parent node text: Dear Hiring Manager,\n",
      "I am writing to express my interest in the Data Scientist position at Avanad...\n",
      "\n",
      "Gautam can improve his job prospects by highlighting specific achievements and quantifiable results from his previous work experiences. Additionally, he should tailor his resume and cover letter to align closely with the requirements of the positions he is applying for at different companies. Networking with professionals in the industry and staying updated on the latest trends and technologies in data science can also enhance his job prospects.\n"
     ]
    }
   ],
   "source": [
    "auto_merging_response = automerging_query_engine.query(\n",
    "    \"How should Gautam improve his job prospects ?\"\n",
    ")\n",
    "print(str(auto_merging_response))"
   ]
  },
  {
   "cell_type": "code",
   "execution_count": 55,
   "id": "db4f18a9-7b8a-4ae2-ab11-3a6a941a5afc",
   "metadata": {
    "height": 81,
    "tags": []
   },
   "outputs": [],
   "source": [
    "tru.reset_database()\n",
    "\n",
    "tru_recorder_automerging = get_prebuilt_trulens_recorder(automerging_query_engine,\n",
    "                                                         app_id=\"Automerging Query Engine\")"
   ]
  },
  {
   "cell_type": "code",
   "execution_count": 56,
   "id": "99cc2cfe-7096-4fa0-aa72-094bebac35a3",
   "metadata": {
    "height": 98,
    "tags": []
   },
   "outputs": [
    {
     "name": "stdout",
     "output_type": "stream",
     "text": [
      "> Merging 4 nodes into parent node.\n",
      "> Parent node id: 9ff86d3d-775b-4e39-92d3-e1d995ef31df.\n",
      "> Parent node text: Dear Hiring Manager,\n",
      "I am writing to express my interest in the Data Scientist position at Avanad...\n",
      "\n",
      "> Merging 1 nodes into parent node.\n",
      "> Parent node id: 6a410070-4faa-4bb7-9c7f-e58370347a52.\n",
      "> Parent node text: Dear Hiring Manager,\n",
      "I am writing to express my interest in the Data Scientist position at Avanad...\n",
      "\n",
      "What are the keys to building a career in AI?\n",
      "Developing expertise in data science, business intelligence, and software development is essential for building a successful career in AI. Proficiency in end-to-end machine learning, data analysis, and cloud computing, along with strong skills in Python and SQL, are key components. Hands-on experience with building and deploying machine learning models, working with data pipelines, and understanding statistical concepts like hypothesis testing are also crucial for advancing in the field of AI. Additionally, staying updated on the latest technologies and tools in the AI industry and actively contributing to innovative projects can further solidify a career in AI.\n",
      "> Merging 4 nodes into parent node.\n",
      "> Parent node id: 9ff86d3d-775b-4e39-92d3-e1d995ef31df.\n",
      "> Parent node text: Dear Hiring Manager,\n",
      "I am writing to express my interest in the Data Scientist position at Avanad...\n",
      "\n",
      "> Merging 1 nodes into parent node.\n",
      "> Parent node id: 6a410070-4faa-4bb7-9c7f-e58370347a52.\n",
      "> Parent node text: Dear Hiring Manager,\n",
      "I am writing to express my interest in the Data Scientist position at Avanad...\n",
      "\n",
      "How can teamwork contribute to success in AI?\n",
      "Collaboration within a team can enhance success in AI by allowing for diverse perspectives and expertise to be combined. Teamwork enables individuals to leverage each other's strengths, share knowledge, and collectively solve complex problems more efficiently. In the context of AI projects, teamwork can facilitate better data analysis, model development, and implementation by pooling together a variety of skills such as data science, software development, and domain knowledge. Additionally, working in a team promotes innovation, creativity, and continuous learning, which are essential for staying competitive in the rapidly evolving field of artificial intelligence.\n",
      "> Merging 4 nodes into parent node.\n",
      "> Parent node id: 9ff86d3d-775b-4e39-92d3-e1d995ef31df.\n",
      "> Parent node text: Dear Hiring Manager,\n",
      "I am writing to express my interest in the Data Scientist position at Avanad...\n",
      "\n",
      "> Merging 1 nodes into parent node.\n",
      "> Parent node id: 6a410070-4faa-4bb7-9c7f-e58370347a52.\n",
      "> Parent node text: Dear Hiring Manager,\n",
      "I am writing to express my interest in the Data Scientist position at Avanad...\n",
      "\n",
      "What is the importance of networking in AI?\n",
      "Networking in AI is crucial for professionals to stay updated on the latest trends, advancements, and best practices in the field. It provides opportunities to collaborate with peers, share knowledge, and potentially discover new techniques or approaches that can enhance one's skills and expertise in artificial intelligence. Additionally, networking can lead to potential job opportunities, partnerships, and exposure to diverse perspectives that can broaden one's understanding of AI applications across various industries.\n",
      "> Merging 4 nodes into parent node.\n",
      "> Parent node id: 9ff86d3d-775b-4e39-92d3-e1d995ef31df.\n",
      "> Parent node text: Dear Hiring Manager,\n",
      "I am writing to express my interest in the Data Scientist position at Avanad...\n",
      "\n",
      "> Merging 1 nodes into parent node.\n",
      "> Parent node id: 6a410070-4faa-4bb7-9c7f-e58370347a52.\n",
      "> Parent node text: Dear Hiring Manager,\n",
      "I am writing to express my interest in the Data Scientist position at Avanad...\n",
      "\n",
      "What are some good habits to develop for a successful career?\n",
      "Developing good habits such as continuous learning to stay updated with industry trends, effective time management to prioritize tasks, strong communication skills for collaboration, adaptability to embrace change, and maintaining a positive attitude towards challenges can contribute to a successful career.\n",
      "> Merging 4 nodes into parent node.\n",
      "> Parent node id: 9ff86d3d-775b-4e39-92d3-e1d995ef31df.\n",
      "> Parent node text: Dear Hiring Manager,\n",
      "I am writing to express my interest in the Data Scientist position at Avanad...\n",
      "\n",
      "> Merging 1 nodes into parent node.\n",
      "> Parent node id: 6a410070-4faa-4bb7-9c7f-e58370347a52.\n",
      "> Parent node text: Dear Hiring Manager,\n",
      "I am writing to express my interest in the Data Scientist position at Avanad...\n",
      "\n",
      "How can altruism be beneficial in building a career?\n",
      "Altruism can be beneficial in building a career by fostering positive relationships with colleagues and clients, enhancing teamwork and collaboration, and creating a reputation for being a supportive and empathetic professional. Additionally, acts of altruism can lead to increased job satisfaction, personal fulfillment, and a sense of purpose in one's career. This can ultimately contribute to a more fulfilling and successful professional journey.\n",
      "> Merging 4 nodes into parent node.\n",
      "> Parent node id: 9ff86d3d-775b-4e39-92d3-e1d995ef31df.\n",
      "> Parent node text: Dear Hiring Manager,\n",
      "I am writing to express my interest in the Data Scientist position at Avanad...\n",
      "\n",
      "> Merging 1 nodes into parent node.\n",
      "> Parent node id: 6a410070-4faa-4bb7-9c7f-e58370347a52.\n",
      "> Parent node text: Dear Hiring Manager,\n",
      "I am writing to express my interest in the Data Scientist position at Avanad...\n",
      "\n",
      "What is imposter syndrome and how does it relate to AI?\n",
      "Imposter syndrome is a psychological pattern where individuals doubt their accomplishments and have a persistent fear of being exposed as a fraud, despite evidence of their competence. In the field of AI, imposter syndrome can manifest when professionals feel inadequate or doubt their abilities in areas such as machine learning, data analysis, or AI development, even when they possess the necessary skills and experience. This can lead to self-doubt, anxiety, and a lack of confidence in their work within the AI domain.\n",
      "> Merging 4 nodes into parent node.\n",
      "> Parent node id: 9ff86d3d-775b-4e39-92d3-e1d995ef31df.\n",
      "> Parent node text: Dear Hiring Manager,\n",
      "I am writing to express my interest in the Data Scientist position at Avanad...\n",
      "\n",
      "> Merging 1 nodes into parent node.\n",
      "> Parent node id: 6a410070-4faa-4bb7-9c7f-e58370347a52.\n",
      "> Parent node text: Dear Hiring Manager,\n",
      "I am writing to express my interest in the Data Scientist position at Avanad...\n",
      "\n",
      "Who are some accomplished individuals who have experienced imposter syndrome?\n",
      "Many accomplished individuals, such as Maya Angelou, Albert Einstein, and Serena Williams, have experienced imposter syndrome at some point in their careers.\n",
      "> Merging 4 nodes into parent node.\n",
      "> Parent node id: 9ff86d3d-775b-4e39-92d3-e1d995ef31df.\n",
      "> Parent node text: Dear Hiring Manager,\n",
      "I am writing to express my interest in the Data Scientist position at Avanad...\n",
      "\n",
      "> Merging 1 nodes into parent node.\n",
      "> Parent node id: 6a410070-4faa-4bb7-9c7f-e58370347a52.\n",
      "> Parent node text: Dear Hiring Manager,\n",
      "I am writing to express my interest in the Data Scientist position at Avanad...\n",
      "\n",
      "What is the first step to becoming good at AI?\n",
      "Learning programming languages like Python and SQL is the first step to becoming good at AI.\n",
      "> Merging 4 nodes into parent node.\n",
      "> Parent node id: 9ff86d3d-775b-4e39-92d3-e1d995ef31df.\n",
      "> Parent node text: Dear Hiring Manager,\n",
      "I am writing to express my interest in the Data Scientist position at Avanad...\n",
      "\n",
      "> Merging 1 nodes into parent node.\n",
      "> Parent node id: 6a410070-4faa-4bb7-9c7f-e58370347a52.\n",
      "> Parent node text: Dear Hiring Manager,\n",
      "I am writing to express my interest in the Data Scientist position at Avanad...\n",
      "\n",
      "What are some common challenges in AI?\n",
      "Some common challenges in AI include data quality and quantity issues, interpretability and explainability of AI models, ethical concerns surrounding AI applications, bias and fairness in AI algorithms, the need for continuous learning and adaptation of AI systems, and cybersecurity risks associated with AI technologies.\n",
      "> Merging 4 nodes into parent node.\n",
      "> Parent node id: 9ff86d3d-775b-4e39-92d3-e1d995ef31df.\n",
      "> Parent node text: Dear Hiring Manager,\n",
      "I am writing to express my interest in the Data Scientist position at Avanad...\n",
      "\n",
      "> Merging 1 nodes into parent node.\n",
      "> Parent node id: 6a410070-4faa-4bb7-9c7f-e58370347a52.\n",
      "> Parent node text: Dear Hiring Manager,\n",
      "I am writing to express my interest in the Data Scientist position at Avanad...\n",
      "\n"
     ]
    },
    {
     "name": "stdout",
     "output_type": "stream",
     "text": [
      "Is it normal to find parts of AI challenging?\n",
      "Yes, it is normal to find parts of AI challenging, especially when working on complex tasks such as building and deploying machine learning models, optimizing data storage, and working with real-time applications. Understanding statistical concepts, fine-tuning models, and handling large datasets can also present challenges in the field of AI.\n",
      "> Merging 4 nodes into parent node.\n",
      "> Parent node id: 9ff86d3d-775b-4e39-92d3-e1d995ef31df.\n",
      "> Parent node text: Dear Hiring Manager,\n",
      "I am writing to express my interest in the Data Scientist position at Avanad...\n",
      "\n",
      "> Merging 1 nodes into parent node.\n",
      "> Parent node id: 6a410070-4faa-4bb7-9c7f-e58370347a52.\n",
      "> Parent node text: Dear Hiring Manager,\n",
      "I am writing to express my interest in the Data Scientist position at Avanad...\n",
      "\n",
      "which countries Gautam lived in ?\n",
      "The information provided does not mention any specific countries where Gautam Kumar has lived.\n",
      "> Merging 4 nodes into parent node.\n",
      "> Parent node id: 9ff86d3d-775b-4e39-92d3-e1d995ef31df.\n",
      "> Parent node text: Dear Hiring Manager,\n",
      "I am writing to express my interest in the Data Scientist position at Avanad...\n",
      "\n",
      "> Merging 1 nodes into parent node.\n",
      "> Parent node id: 6a410070-4faa-4bb7-9c7f-e58370347a52.\n",
      "> Parent node text: Dear Hiring Manager,\n",
      "I am writing to express my interest in the Data Scientist position at Avanad...\n",
      "\n",
      "Which companies gautam worked in ?\n",
      "Gautam worked at Amazon Web Services (AWS) and has experience with Azure AI.\n",
      "> Merging 4 nodes into parent node.\n",
      "> Parent node id: 9ff86d3d-775b-4e39-92d3-e1d995ef31df.\n",
      "> Parent node text: Dear Hiring Manager,\n",
      "I am writing to express my interest in the Data Scientist position at Avanad...\n",
      "\n",
      "> Merging 1 nodes into parent node.\n",
      "> Parent node id: 6a410070-4faa-4bb7-9c7f-e58370347a52.\n",
      "> Parent node text: Dear Hiring Manager,\n",
      "I am writing to express my interest in the Data Scientist position at Avanad...\n",
      "\n",
      "Which all skills Gautam posses ?\n",
      "Gautam possesses skills in data science, business intelligence, software development, end-to-end machine learning, data analysis, cloud computing, Python, SQL, working with Amazon Web Services (AWS), Redshift, Azure ML Studio, Databricks (PySpark), building and deploying machine learning models, retrieval-augmented generation (RAG) models, Azure AI, prompt engineering, fine-tuning, understanding vector indexes, statistical concepts like hypothesis testing and confidence intervals, and A/B testing projects.\n",
      "> Merging 4 nodes into parent node.\n",
      "> Parent node id: 9ff86d3d-775b-4e39-92d3-e1d995ef31df.\n",
      "> Parent node text: Dear Hiring Manager,\n",
      "I am writing to express my interest in the Data Scientist position at Avanad...\n",
      "\n",
      "> Merging 1 nodes into parent node.\n",
      "> Parent node id: 6a410070-4faa-4bb7-9c7f-e58370347a52.\n",
      "> Parent node text: Dear Hiring Manager,\n",
      "I am writing to express my interest in the Data Scientist position at Avanad...\n",
      "\n",
      "What roles Gautam has worked as ?\n",
      "Gautam has worked in roles related to data science, business intelligence, software development, machine learning, data analysis, cloud computing, Python programming, SQL querying, data modeling, and creating scalable machine learning solutions.\n",
      "> Merging 4 nodes into parent node.\n",
      "> Parent node id: 9ff86d3d-775b-4e39-92d3-e1d995ef31df.\n",
      "> Parent node text: Dear Hiring Manager,\n",
      "I am writing to express my interest in the Data Scientist position at Avanad...\n",
      "\n",
      "> Merging 1 nodes into parent node.\n",
      "> Parent node id: 6a410070-4faa-4bb7-9c7f-e58370347a52.\n",
      "> Parent node text: Dear Hiring Manager,\n",
      "I am writing to express my interest in the Data Scientist position at Avanad...\n",
      "\n",
      "What is the right AI job for Gautam?\n",
      "The right AI job for Gautam would be a Data Scientist position that aligns with his experience in data science, business intelligence, software development, end-to-end machine learning, data analysis, cloud computing, Python proficiency, SQL skills, and hands-on experience with various tools like AWS, Azure ML Studio, Databricks, and Azure AI.\n"
     ]
    }
   ],
   "source": [
    "for question in eval_questions:\n",
    "    with tru_recorder_automerging as recording:\n",
    "        response = automerging_query_engine.query(question)\n",
    "        print(question)\n",
    "        print(response)"
   ]
  },
  {
   "cell_type": "code",
   "execution_count": 57,
   "id": "5404dec1-60ca-42fa-ac13-793a5423aa64",
   "metadata": {
    "height": 30,
    "tags": []
   },
   "outputs": [
    {
     "data": {
      "text/html": [
       "<div>\n",
       "<style scoped>\n",
       "    .dataframe tbody tr th:only-of-type {\n",
       "        vertical-align: middle;\n",
       "    }\n",
       "\n",
       "    .dataframe tbody tr th {\n",
       "        vertical-align: top;\n",
       "    }\n",
       "\n",
       "    .dataframe thead th {\n",
       "        text-align: right;\n",
       "    }\n",
       "</style>\n",
       "<table border=\"1\" class=\"dataframe\">\n",
       "  <thead>\n",
       "    <tr style=\"text-align: right;\">\n",
       "      <th></th>\n",
       "      <th>Groundedness</th>\n",
       "      <th>Answer Relevance</th>\n",
       "      <th>Context Relevance</th>\n",
       "      <th>latency</th>\n",
       "      <th>total_cost</th>\n",
       "    </tr>\n",
       "    <tr>\n",
       "      <th>app_id</th>\n",
       "      <th></th>\n",
       "      <th></th>\n",
       "      <th></th>\n",
       "      <th></th>\n",
       "      <th></th>\n",
       "    </tr>\n",
       "  </thead>\n",
       "  <tbody>\n",
       "    <tr>\n",
       "      <th>Automerging Query Engine</th>\n",
       "      <td>0.136111</td>\n",
       "      <td>1.0</td>\n",
       "      <td>0.0</td>\n",
       "      <td>0.933333</td>\n",
       "      <td>0.000788</td>\n",
       "    </tr>\n",
       "  </tbody>\n",
       "</table>\n",
       "</div>"
      ],
      "text/plain": [
       "                          Groundedness  Answer Relevance  Context Relevance  \\\n",
       "app_id                                                                        \n",
       "Automerging Query Engine      0.136111               1.0                0.0   \n",
       "\n",
       "                           latency  total_cost  \n",
       "app_id                                          \n",
       "Automerging Query Engine  0.933333    0.000788  "
      ]
     },
     "execution_count": 57,
     "metadata": {},
     "output_type": "execute_result"
    }
   ],
   "source": [
    "tru.get_leaderboard(app_ids=[])"
   ]
  },
  {
   "cell_type": "code",
   "execution_count": 58,
   "id": "0f545d41-0d98-446f-8214-8b59bef08d6c",
   "metadata": {
    "height": 47,
    "tags": []
   },
   "outputs": [
    {
     "name": "stdout",
     "output_type": "stream",
     "text": [
      "Starting dashboard ...\n",
      "Config file already exists. Skipping writing process.\n",
      "Credentials file already exists. Skipping writing process.\n",
      "Dashboard already running at path: https://s172-29-38-34p38560.lab-aws-production.deeplearning.ai/\n"
     ]
    },
    {
     "data": {
      "text/plain": [
       "<Popen: returncode: None args: ['streamlit', 'run', '--server.headless=True'...>"
      ]
     },
     "execution_count": 58,
     "metadata": {},
     "output_type": "execute_result"
    }
   ],
   "source": [
    "# launches on http://localhost:8501/\n",
    "tru.run_dashboard()"
   ]
  },
  {
   "cell_type": "code",
   "execution_count": null,
   "id": "b7840ccc",
   "metadata": {
    "height": 30
   },
   "outputs": [],
   "source": []
  }
 ],
 "metadata": {
  "kernelspec": {
   "display_name": "Python 3 (ipykernel)",
   "language": "python",
   "name": "python3"
  },
  "language_info": {
   "codemirror_mode": {
    "name": "ipython",
    "version": 3
   },
   "file_extension": ".py",
   "mimetype": "text/x-python",
   "name": "python",
   "nbconvert_exporter": "python",
   "pygments_lexer": "ipython3",
   "version": "3.10.14"
  }
 },
 "nbformat": 4,
 "nbformat_minor": 5
}
